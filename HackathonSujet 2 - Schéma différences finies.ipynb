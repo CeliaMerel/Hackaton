{
 "cells": [
  {
   "attachments": {},
   "cell_type": "markdown",
   "metadata": {},
   "source": [
    "**Hackathon Sujet 2 - Schéma différences finies**"
   ]
  },
  {
   "attachments": {},
   "cell_type": "markdown",
   "metadata": {},
   "source": [
    "Question 2 : Mettre  en  place  le  code  permettant  de  résoudre  le  problème  de  thermique  instationnaire  en  utilisant  le  schéma  Euler  explicite.Attention au pas de temps que vous prenez !Exporter les résultats dans un fichier texte et proposer un script Python permettant de tracer l’évolution de la température enfonction de x et t."
   ]
  },
  {
   "cell_type": "markdown",
   "metadata": {},
   "source": []
  },
  {
   "cell_type": "code",
   "execution_count": null,
   "metadata": {},
   "outputs": [],
   "source": []
  },
  {
   "attachments": {},
   "cell_type": "markdown",
   "metadata": {},
   "source": [
    "Question 3 : Pour la résolution du problème de thermique vous allez avoir besoin de résoudre un système linéaire. Il vous faut donc implémenterune méthode de résolution d’un système linéaire.  Vous pouvez choisir la méthode que vous souhaitez mais si vous n’avez pas depréférence je vous conseille d’implémenter la méthode du gradient conjugué.Là encore il est fortement conseillé de mettre en place des tests pour vérifier le bon fonctionnement de la méthode."
   ]
  },
  {
   "cell_type": "code",
   "execution_count": null,
   "metadata": {},
   "outputs": [],
   "source": []
  },
  {
   "attachments": {},
   "cell_type": "markdown",
   "metadata": {},
   "source": [
    "Question 4 : Mettre en place le code permettant de résoudre le problème de thermique instationnaire en utilisant le schémaEuler Implicite.Exporter les résultats dans un fichier texte et proposer un script Python permettant de tracer l’évolution de la température enfonction de x et t."
   ]
  },
  {
   "cell_type": "code",
   "execution_count": null,
   "metadata": {},
   "outputs": [],
   "source": []
  },
  {
   "attachments": {},
   "cell_type": "markdown",
   "metadata": {},
   "source": [
    "Question 5 : Considérons maintenant un milieu hétérogène, c’est-à-dire unD(x)qui n’est plus constant.  Pour cela générer un vecteur deDialéatoires dont les valeurs sont comprises entre 0.5 et 1.5. Refaire les résolutions des questions 2 et 4 (si elles ont bien été faites dèsle début c’est instantanné ;) ).Attentionavec un D hétérogène la matrice K n’est plus symmétrique donc la résolution ne peut plusse faire à l’aide d’un gradient conjugué ..."
   ]
  },
  {
   "cell_type": "code",
   "execution_count": null,
   "metadata": {},
   "outputs": [],
   "source": []
  },
  {
   "attachments": {},
   "cell_type": "markdown",
   "metadata": {},
   "source": [
    "Question 6 : Procéder à des mesures de performance de votre code en fonction de la discrétisation spatiale. Comment évolue le temps de calcul ?Pour réduire ce temps de résolution une piste envisageable est de tirer parti de la stucture de la matrice K. En effet cette dernièreest pleine de zéro. Pour optimiser cela nous devons utiliser une matrice creuse. Proposer une nouvelle implémentation de la classeMatrix en faisant du stockage creux et les opérations associées. Pour les plus malins vous avez le droit pour cette question de vousaccrocher à une librairie externe ;)"
   ]
  },
  {
   "cell_type": "code",
   "execution_count": null,
   "metadata": {},
   "outputs": [],
   "source": []
  },
  {
   "attachments": {},
   "cell_type": "markdown",
   "metadata": {},
   "source": [
    "Question 3 (pour les Python seulement):En utilisant une librairie graphique (celle que vous voulez) faire la visualisation en direct de l’évolution du champ de température en fonction de l’espace et du temps"
   ]
  },
  {
   "cell_type": "code",
   "execution_count": null,
   "metadata": {},
   "outputs": [],
   "source": []
  }
 ],
 "metadata": {
  "kernelspec": {
   "display_name": "base",
   "language": "python",
   "name": "python3"
  },
  "language_info": {
   "codemirror_mode": {
    "name": "ipython",
    "version": 3
   },
   "file_extension": ".py",
   "mimetype": "text/x-python",
   "name": "python",
   "nbconvert_exporter": "python",
   "pygments_lexer": "ipython3",
   "version": "3.9.12"
  },
  "orig_nbformat": 4,
  "vscode": {
   "interpreter": {
    "hash": "2172913d4612856e3bbc325c0b7fb332e765f63a52fed726fb1f267ce3eabcc0"
   }
  }
 },
 "nbformat": 4,
 "nbformat_minor": 2
}
